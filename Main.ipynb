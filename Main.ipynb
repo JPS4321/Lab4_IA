{
 "cells": [
  {
   "cell_type": "markdown",
   "metadata": {},
   "source": [
    "# Laboratorio 4\n",
    "- Juan Pablo Solis\n",
    "- Brandon Reyes\n",
    "- Carlos Valladares"
   ]
  },
  {
   "cell_type": "markdown",
   "metadata": {},
   "source": [
    "# Task 1 - Preguntas Teoricas\n",
    "1. Explique con sus propias palabras, qué son los grafos computaciones y cuál es su importancia para el\n",
    "cálculo de gradientes en aplicaciones como backpropagation.\n",
    "    - Un grafo computacional es un tipo de grafico el cual su nodo raiz representa la expresión matemática final y cada nodo representa subexpresiones intermedias\n",
    "2. Detalle cuales son los componentes y pasos que conforman una red neuronal. Con esto en mente, ¿cómo\n",
    "mejoraría el perceptrón que hizo en el laboratorio pasado?\n",
    "    - Neuronas: Unidades básicas que procesan información a través de funciones de activación.\n",
    "    - Capas: Incluyen capa de entrada, capas ocultas y capa de salida.\n",
    "    - Pesos y sesgos: Factores que determinan la influencia de una neurona en otra.\n",
    "    - Función de activación: Introduce no linealidad en la red (ReLU, Sigmoide, etc.).\n",
    "    - Función de costo: Mide la diferencia entre la salida esperada y la obtenida.\n",
    "    - Algoritmo de optimización: Como el descenso de gradiente para actualizar los pesos.\n",
    "    - Para mejorar el perceptron añadiendo más capas ocultas y utilizando funciones de activación no lineales\n",
    "3. Investigue y explique cómo se selecciona el valor K usando el método de la silueta para el algoritmo de K-\n",
    "Means\n",
    "    - El método del coeficiente de silueta mide la calidad de los clusters evaluando la similitud de cada punto con su propio cluster y comparándola con otros clusters\n",
    "    - La ecuacion es S(i)= (b(i)−a(i))/(max(a(i),b(i)))\n",
    "    - Donde a(i) es la distancia promedio del punto i a los demás puntos de su mismo cluster y b(i) es la menor distancia promedio del punto i a los puntos de otro cluster.\n",
    "4. ¿Cómo podría ayudarle el PCA a mejorar la calidad de sus clusters cuando se usa K-Means?\n",
    "    - El PCA ayuda a reducir la dimensionalidad de los datos preservando la varianza más significativa, por lo que puede mejorar significativamente los resultados de K-Means al facilitar la identificación de patrones relevantes en los datos\n",
    "​\n"
   ]
  }
 ],
 "metadata": {
  "language_info": {
   "name": "python"
  }
 },
 "nbformat": 4,
 "nbformat_minor": 2
}
