{
 "cells": [
  {
   "cell_type": "markdown",
   "metadata": {},
   "source": [
    "# Laboratorio 4\n",
    "- Juan Pablo Solis\n",
    "- Brandon Reyes\n",
    "- Carlos Valladares"
   ]
  },
  {
   "cell_type": "markdown",
   "metadata": {},
   "source": [
    "# Task 1 - Preguntas Teoricas\n",
    "1. Explique con sus propias palabras, qué son los grafos computaciones y cuál es su importancia para el\n",
    "cálculo de gradientes en aplicaciones como backpropagation.\n",
    "    - Un grafo computacional es un tipo de grafico el cual su nodo raiz representa la expresión matemática final y cada nodo representa subexpresiones intermedias\n",
    "2. Detalle cuales son los componentes y pasos que conforman una red neuronal. Con esto en mente, ¿cómo\n",
    "mejoraría el perceptrón que hizo en el laboratorio pasado?\n",
    "    - Neuronas: Unidades básicas que procesan información a través de funciones de activación.\n",
    "    - Capas: Incluyen capa de entrada, capas ocultas y capa de salida.\n",
    "    - Pesos y sesgos: Factores que determinan la influencia de una neurona en otra.\n",
    "    - Función de activación: Introduce no linealidad en la red (ReLU, Sigmoide, etc.).\n",
    "    - Función de costo: Mide la diferencia entre la salida esperada y la obtenida.\n",
    "    - Algoritmo de optimización: Como el descenso de gradiente para actualizar los pesos.\n",
    "    - Para mejorar el perceptron añadiendo más capas ocultas y utilizando funciones de activación no lineales\n",
    "3. Investigue y explique cómo se selecciona el valor K usando el método de la silueta para el algoritmo de K-\n",
    "Means\n",
    "    - El método del coeficiente de silueta mide la calidad de los clusters evaluando la similitud de cada punto con su propio cluster y comparándola con otros clusters\n",
    "    - La ecuacion es S(i)= (b(i)−a(i))/(max(a(i),b(i)))\n",
    "    - Donde a(i) es la distancia promedio del punto i a los demás puntos de su mismo cluster y b(i) es la menor distancia promedio del punto i a los puntos de otro cluster.\n",
    "4. ¿Cómo podría ayudarle el PCA a mejorar la calidad de sus clusters cuando se usa K-Means?\n",
    "    - El PCA ayuda a reducir la dimensionalidad de los datos preservando la varianza más significativa, por lo que puede mejorar significativamente los resultados de K-Means al facilitar la identificación de patrones relevantes en los datos\n",
    "​\n"
   ]
  },
  {
   "cell_type": "markdown",
   "metadata": {},
   "source": [
    "# Task 2.1 K-Means y Segmentación de Clientes de Banco"
   ]
  },
  {
   "cell_type": "markdown",
   "metadata": {},
   "source": [
    "## 2.1.0 Exploracion e Importacion de datos"
   ]
  },
  {
   "cell_type": "code",
   "execution_count": 7,
   "metadata": {},
   "outputs": [],
   "source": [
    "from sklearn.preprocessing import LabelEncoder, OneHotEncoder\n",
    "import numpy as np\n",
    "import pandas as pd\n",
    "from sklearn.preprocessing import LabelEncoder"
   ]
  },
  {
   "cell_type": "code",
   "execution_count": 8,
   "metadata": {},
   "outputs": [
    {
     "name": "stdout",
     "output_type": "stream",
     "text": [
      "Distribución inicial de la columna 'status':\n",
      "CustGender\n",
      "M    765530\n",
      "F    281936\n",
      "T         1\n",
      "Name: count, dtype: int64\n",
      "\n",
      "Verificacion de datos nulos\n",
      "TransactionID                 0\n",
      "CustomerID                    0\n",
      "CustomerDOB                3397\n",
      "CustGender                 1100\n",
      "CustLocation                151\n",
      "CustAccountBalance         2369\n",
      "TransactionDate               0\n",
      "TransactionTime               0\n",
      "TransactionAmount (INR)       0\n",
      "dtype: int64\n",
      "\n",
      "Resumen estadistico de los datos\n",
      "       CustAccountBalance  TransactionTime  TransactionAmount (INR)\n",
      "count        1.046198e+06     1.048567e+06             1.048567e+06\n",
      "mean         1.154035e+05     1.570875e+05             1.574335e+03\n",
      "std          8.464854e+05     5.126185e+04             6.574743e+03\n",
      "min          0.000000e+00     0.000000e+00             0.000000e+00\n",
      "25%          4.721760e+03     1.240300e+05             1.610000e+02\n",
      "50%          1.679218e+04     1.642260e+05             4.590300e+02\n",
      "75%          5.765736e+04     2.000100e+05             1.200000e+03\n",
      "max          1.150355e+08     2.359590e+05             1.560035e+06\n"
     ]
    }
   ],
   "source": [
    "filepath = \"bank_transactions.csv\"\n",
    "df = pd.read_csv(filepath)\n",
    "#Exploracion de datos - Inciso 2.0\n",
    "print(\"Distribución inicial de la columna 'status':\")\n",
    "print(df['CustGender'].value_counts())\n",
    "print(\"\\nVerificacion de datos nulos\")\n",
    "print(df.isnull().sum())\n",
    "print(\"\\nResumen estadistico de los datos\")\n",
    "print(df.describe())\n",
    "\n",
    "\n"
   ]
  },
  {
   "cell_type": "code",
   "execution_count": 12,
   "metadata": {},
   "outputs": [
    {
     "name": "stdout",
     "output_type": "stream",
     "text": [
      "\n",
      "Verificacion de datos nulos\n",
      "TransactionID              0\n",
      "CustomerID                 0\n",
      "CustomerDOB                0\n",
      "CustGender                 0\n",
      "CustLocation               0\n",
      "CustAccountBalance         0\n",
      "TransactionDate            0\n",
      "TransactionTime            0\n",
      "TransactionAmount (INR)    0\n",
      "dtype: int64\n"
     ]
    }
   ],
   "source": [
    "# Eliminar filas con valores nulos en las columnas especificadas\n",
    "df = df.dropna(subset=[\"CustomerDOB\", \"CustGender\", \"CustLocation\", \"CustAccountBalance\"])\n",
    "\n",
    "print(\"\\nVerificacion de datos nulos\")\n",
    "print(df.isnull().sum())"
   ]
  },
  {
   "cell_type": "code",
   "execution_count": 10,
   "metadata": {},
   "outputs": [],
   "source": [
    "# Eliminar filas donde el género sea 'T'\n",
    "df = df[df[\"CustGender\"] != \"T\"]\n",
    "\n",
    "label_encoder = LabelEncoder()\n",
    "\n",
    "# Aplicar Label Encoding a la columna 'CustGender' (M -> 1, F -> 0)\n",
    "df[\"CustGender\"] = label_encoder.fit_transform(df[\"CustGender\"])\n",
    "\n",
    "# Aplicar Label Encoding a la columna 'CustLocation'\n",
    "df[\"CustLocation\"] = label_encoder.fit_transform(df[\"CustLocation\"])\n",
    "\n"
   ]
  },
  {
   "cell_type": "code",
   "execution_count": 11,
   "metadata": {},
   "outputs": [
    {
     "data": {
      "text/html": [
       "<div>\n",
       "<style scoped>\n",
       "    .dataframe tbody tr th:only-of-type {\n",
       "        vertical-align: middle;\n",
       "    }\n",
       "\n",
       "    .dataframe tbody tr th {\n",
       "        vertical-align: top;\n",
       "    }\n",
       "\n",
       "    .dataframe thead th {\n",
       "        text-align: right;\n",
       "    }\n",
       "</style>\n",
       "<table border=\"1\" class=\"dataframe\">\n",
       "  <thead>\n",
       "    <tr style=\"text-align: right;\">\n",
       "      <th></th>\n",
       "      <th>TransactionID</th>\n",
       "      <th>CustomerID</th>\n",
       "      <th>CustomerDOB</th>\n",
       "      <th>CustGender</th>\n",
       "      <th>CustLocation</th>\n",
       "    </tr>\n",
       "  </thead>\n",
       "  <tbody>\n",
       "    <tr>\n",
       "      <th>0</th>\n",
       "      <td>T1</td>\n",
       "      <td>C5841053</td>\n",
       "      <td>10/1/94</td>\n",
       "      <td>0</td>\n",
       "      <td>3557</td>\n",
       "    </tr>\n",
       "    <tr>\n",
       "      <th>1</th>\n",
       "      <td>T2</td>\n",
       "      <td>C2142763</td>\n",
       "      <td>4/4/57</td>\n",
       "      <td>1</td>\n",
       "      <td>3618</td>\n",
       "    </tr>\n",
       "    <tr>\n",
       "      <th>2</th>\n",
       "      <td>T3</td>\n",
       "      <td>C4417068</td>\n",
       "      <td>26/11/96</td>\n",
       "      <td>0</td>\n",
       "      <td>5219</td>\n",
       "    </tr>\n",
       "    <tr>\n",
       "      <th>3</th>\n",
       "      <td>T4</td>\n",
       "      <td>C5342380</td>\n",
       "      <td>14/9/73</td>\n",
       "      <td>0</td>\n",
       "      <td>5219</td>\n",
       "    </tr>\n",
       "    <tr>\n",
       "      <th>4</th>\n",
       "      <td>T5</td>\n",
       "      <td>C9031234</td>\n",
       "      <td>24/3/88</td>\n",
       "      <td>0</td>\n",
       "      <td>5606</td>\n",
       "    </tr>\n",
       "    <tr>\n",
       "      <th>...</th>\n",
       "      <td>...</td>\n",
       "      <td>...</td>\n",
       "      <td>...</td>\n",
       "      <td>...</td>\n",
       "      <td>...</td>\n",
       "    </tr>\n",
       "    <tr>\n",
       "      <th>1048562</th>\n",
       "      <td>T1048563</td>\n",
       "      <td>C8020229</td>\n",
       "      <td>8/4/90</td>\n",
       "      <td>1</td>\n",
       "      <td>5738</td>\n",
       "    </tr>\n",
       "    <tr>\n",
       "      <th>1048563</th>\n",
       "      <td>T1048564</td>\n",
       "      <td>C6459278</td>\n",
       "      <td>20/2/92</td>\n",
       "      <td>1</td>\n",
       "      <td>5580</td>\n",
       "    </tr>\n",
       "    <tr>\n",
       "      <th>1048564</th>\n",
       "      <td>T1048565</td>\n",
       "      <td>C6412354</td>\n",
       "      <td>18/5/89</td>\n",
       "      <td>1</td>\n",
       "      <td>3367</td>\n",
       "    </tr>\n",
       "    <tr>\n",
       "      <th>1048565</th>\n",
       "      <td>T1048566</td>\n",
       "      <td>C6420483</td>\n",
       "      <td>30/8/78</td>\n",
       "      <td>1</td>\n",
       "      <td>9059</td>\n",
       "    </tr>\n",
       "    <tr>\n",
       "      <th>1048566</th>\n",
       "      <td>T1048567</td>\n",
       "      <td>C8337524</td>\n",
       "      <td>5/3/84</td>\n",
       "      <td>1</td>\n",
       "      <td>6656</td>\n",
       "    </tr>\n",
       "  </tbody>\n",
       "</table>\n",
       "<p>1041613 rows × 5 columns</p>\n",
       "</div>"
      ],
      "text/plain": [
       "        TransactionID CustomerID CustomerDOB  CustGender  CustLocation\n",
       "0                  T1   C5841053     10/1/94           0          3557\n",
       "1                  T2   C2142763      4/4/57           1          3618\n",
       "2                  T3   C4417068    26/11/96           0          5219\n",
       "3                  T4   C5342380     14/9/73           0          5219\n",
       "4                  T5   C9031234     24/3/88           0          5606\n",
       "...               ...        ...         ...         ...           ...\n",
       "1048562      T1048563   C8020229      8/4/90           1          5738\n",
       "1048563      T1048564   C6459278     20/2/92           1          5580\n",
       "1048564      T1048565   C6412354     18/5/89           1          3367\n",
       "1048565      T1048566   C6420483     30/8/78           1          9059\n",
       "1048566      T1048567   C8337524      5/3/84           1          6656\n",
       "\n",
       "[1041613 rows x 5 columns]"
      ]
     },
     "execution_count": 11,
     "metadata": {},
     "output_type": "execute_result"
    }
   ],
   "source": [
    "\n",
    "# Seleccionar solo las primeras columnas para mostrar\n",
    "df_head = df.iloc[:, :5]  # Tomamos las primeras 5 columnas\n",
    "\n",
    "# Mostrar los datos\n",
    "df_head\n"
   ]
  },
  {
   "cell_type": "code",
   "execution_count": null,
   "metadata": {},
   "outputs": [],
   "source": []
  }
 ],
 "metadata": {
  "kernelspec": {
   "display_name": "Python 3",
   "language": "python",
   "name": "python3"
  },
  "language_info": {
   "codemirror_mode": {
    "name": "ipython",
    "version": 3
   },
   "file_extension": ".py",
   "mimetype": "text/x-python",
   "name": "python",
   "nbconvert_exporter": "python",
   "pygments_lexer": "ipython3",
   "version": "3.10.4"
  }
 },
 "nbformat": 4,
 "nbformat_minor": 2
}
